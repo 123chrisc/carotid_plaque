{
 "cells": [
  {
   "cell_type": "code",
   "execution_count": 27,
   "id": "908f8a7f-9a8d-489e-a1fe-99a9ef9cba36",
   "metadata": {},
   "outputs": [],
   "source": [
    "import pandas as pd\n",
    "import pickle\n",
    "\n",
    "# Read in excel file with miRNA targets from MIENTURNET. Write dict mapping genes to each miRNA\n",
    "# FDR < 0.05"
   ]
  },
  {
   "cell_type": "code",
   "execution_count": null,
   "id": "af089296-3f1d-4797-91b5-0fa78f42b800",
   "metadata": {},
   "outputs": [],
   "source": [
    "## Asymptomatic"
   ]
  },
  {
   "cell_type": "code",
   "execution_count": 28,
   "id": "307ac7c0-f718-4690-9574-6f4d01fb4695",
   "metadata": {},
   "outputs": [],
   "source": [
    "file_path = \"/cluster/projects/bwanggroup/npunwasi/cartoid_plaque/data/Mienturnet Enrichment results miRTarBase_Asymptomatic_PlaquevsMarginal_June2024.xlsx\"\n",
    "df = pd.read_excel(file_path, header=0, skiprows=[0])\n",
    "\n",
    "filtered_df = df[df['FDR']<0.05].copy()\n",
    "filtered_df.set_index(\"Gene Symbol\", inplace=True)\n",
    "filtered_df.drop(columns=['p-value', 'FDR', 'Odd ratio', 'Number of interactions'], inplace=True)\n",
    "\n",
    "gene_target_dict = {}\n",
    "for gene, row in filtered_df.iterrows():\n",
    "    miRNA_list = row.dropna().values.tolist()\n",
    "    for miRNA in miRNA_list:\n",
    "        if miRNA in gene_target_dict.keys():\n",
    "            gene_target_dict[miRNA].append(gene)\n",
    "        else:\n",
    "            gene_target_dict[miRNA] = [gene]\n",
    "\n",
    "# Save the dictionary to a file\n",
    "with open('as_mirna_targets.pkl', 'wb') as file:\n",
    "    pickle.dump(gene_target_dict, file)"
   ]
  },
  {
   "cell_type": "code",
   "execution_count": null,
   "id": "d96c3c29-129c-4c85-8955-aeb2131d789b",
   "metadata": {},
   "outputs": [],
   "source": [
    "## Symptomatic"
   ]
  },
  {
   "cell_type": "code",
   "execution_count": 29,
   "id": "93d0506b-b95e-44b6-acc9-7f48c791da04",
   "metadata": {},
   "outputs": [],
   "source": [
    "file_path = \"/cluster/projects/bwanggroup/npunwasi/cartoid_plaque/data/Mienturnet Enrichment results miRTarBase_Symptomatic_PlaquevsMarginal.xlsx\"\n",
    "df = pd.read_excel(file_path, header=0, skiprows=[0])\n",
    "\n",
    "filtered_df = df[df['FDR']<0.05].copy()\n",
    "filtered_df.set_index(\"Gene Symbol\", inplace=True)\n",
    "filtered_df.drop(columns=['p-value', 'FDR', 'Odd ratio', 'Number of interactions'], inplace=True)\n",
    "\n",
    "gene_target_dict = {}\n",
    "for gene, row in filtered_df.iterrows():\n",
    "    miRNA_list = row.dropna().values.tolist()\n",
    "    for miRNA in miRNA_list:\n",
    "        if miRNA in gene_target_dict.keys():\n",
    "            gene_target_dict[miRNA].append(gene)\n",
    "        else:\n",
    "            gene_target_dict[miRNA] = [gene]\n",
    "\n",
    "# Save the dictionary to a file\n",
    "with open('s_mirna_targets.pkl', 'wb') as file:\n",
    "    pickle.dump(gene_target_dict, file)"
   ]
  }
 ],
 "metadata": {
  "kernelspec": {
   "display_name": "Python 3 (ipykernel)",
   "language": "python",
   "name": "python3"
  },
  "language_info": {
   "codemirror_mode": {
    "name": "ipython",
    "version": 3
   },
   "file_extension": ".py",
   "mimetype": "text/x-python",
   "name": "python",
   "nbconvert_exporter": "python",
   "pygments_lexer": "ipython3",
   "version": "3.8.19"
  }
 },
 "nbformat": 4,
 "nbformat_minor": 5
}
